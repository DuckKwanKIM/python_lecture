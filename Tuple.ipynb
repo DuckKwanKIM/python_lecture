{
 "cells": [
  {
   "cell_type": "markdown",
   "id": "0afc68bd",
   "metadata": {},
   "source": [
    "## 튜플은 어떻게 만들까?\n",
    "\n",
    "튜플(tuple)은 몇 가지 점을 제외하곤 리스트와 거의 비슷하며 리스트와 다른 점은 다음과 같다.\n",
    "\n",
    "- 리스트는 [ ]으로 둘러싸지만 튜플은 ( )으로 둘러싼다.\n",
    "- 리스트는 그 값의 생성, 삭제, 수정이 가능하지만 튜플은 그 값을 바꿀 수 없다."
   ]
  },
  {
   "cell_type": "code",
   "execution_count": 11,
   "id": "a72a97cc",
   "metadata": {
    "ExecuteTime": {
     "end_time": "2021-05-26T02:45:04.917978Z",
     "start_time": "2021-05-26T02:45:04.908984Z"
    }
   },
   "outputs": [],
   "source": [
    "t1 = ()\n",
    "t2 = (1,)\n",
    "t3 = (1, 2, 3)\n",
    "t4 = 1, 2, 3\n",
    "t5 = ('a', 'b', ('ab', 'cd'))"
   ]
  },
  {
   "cell_type": "code",
   "execution_count": 6,
   "id": "f0497543",
   "metadata": {
    "ExecuteTime": {
     "end_time": "2021-05-26T02:44:15.908493Z",
     "start_time": "2021-05-26T02:44:15.899498Z"
    }
   },
   "outputs": [
    {
     "data": {
      "text/plain": [
       "1"
      ]
     },
     "execution_count": 6,
     "metadata": {},
     "output_type": "execute_result"
    }
   ],
   "source": [
    "t2"
   ]
  },
  {
   "cell_type": "code",
   "execution_count": 13,
   "id": "7bd1383b",
   "metadata": {
    "ExecuteTime": {
     "end_time": "2021-05-26T02:47:22.285984Z",
     "start_time": "2021-05-26T02:47:22.276974Z"
    }
   },
   "outputs": [
    {
     "data": {
      "text/plain": [
       "tuple"
      ]
     },
     "execution_count": 13,
     "metadata": {},
     "output_type": "execute_result"
    }
   ],
   "source": [
    "type(t2)"
   ]
  },
  {
   "cell_type": "markdown",
   "id": "2ead0b19",
   "metadata": {},
   "source": [
    "### 인덱싱하기"
   ]
  },
  {
   "cell_type": "code",
   "execution_count": null,
   "id": "294613a1",
   "metadata": {},
   "outputs": [],
   "source": []
  },
  {
   "cell_type": "markdown",
   "id": "c88f683e",
   "metadata": {
    "ExecuteTime": {
     "end_time": "2021-05-26T02:49:18.844633Z",
     "start_time": "2021-05-26T02:49:18.833621Z"
    }
   },
   "source": [
    "### 튜플을 수정하기"
   ]
  },
  {
   "cell_type": "code",
   "execution_count": 15,
   "id": "559e1c46",
   "metadata": {
    "ExecuteTime": {
     "end_time": "2021-05-26T02:50:40.706951Z",
     "start_time": "2021-05-26T02:50:40.699964Z"
    }
   },
   "outputs": [
    {
     "data": {
      "text/plain": [
       "(1, 2, 4)"
      ]
     },
     "execution_count": 15,
     "metadata": {},
     "output_type": "execute_result"
    }
   ],
   "source": [
    "tup = (1, 2, 3, 4)\n",
    "tup = list(tup)\n",
    "del tup[2]\n",
    "\n",
    "tup = tuple(tup)\n",
    "tup"
   ]
  }
 ],
 "metadata": {
  "hide_input": false,
  "kernelspec": {
   "display_name": "Python 3",
   "language": "python",
   "name": "python3"
  },
  "language_info": {
   "codemirror_mode": {
    "name": "ipython",
    "version": 3
   },
   "file_extension": ".py",
   "mimetype": "text/x-python",
   "name": "python",
   "nbconvert_exporter": "python",
   "pygments_lexer": "ipython3",
   "version": "3.7.9"
  },
  "toc": {
   "base_numbering": 1,
   "nav_menu": {},
   "number_sections": true,
   "sideBar": true,
   "skip_h1_title": false,
   "title_cell": "Table of Contents",
   "title_sidebar": "Contents",
   "toc_cell": false,
   "toc_position": {},
   "toc_section_display": true,
   "toc_window_display": false
  },
  "varInspector": {
   "cols": {
    "lenName": 16,
    "lenType": 16,
    "lenVar": 40
   },
   "kernels_config": {
    "python": {
     "delete_cmd_postfix": "",
     "delete_cmd_prefix": "del ",
     "library": "var_list.py",
     "varRefreshCmd": "print(var_dic_list())"
    },
    "r": {
     "delete_cmd_postfix": ") ",
     "delete_cmd_prefix": "rm(",
     "library": "var_list.r",
     "varRefreshCmd": "cat(var_dic_list()) "
    }
   },
   "types_to_exclude": [
    "module",
    "function",
    "builtin_function_or_method",
    "instance",
    "_Feature"
   ],
   "window_display": false
  }
 },
 "nbformat": 4,
 "nbformat_minor": 5
}
