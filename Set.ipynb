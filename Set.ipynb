{
 "cells": [
  {
   "cell_type": "markdown",
   "id": "ccc46db1",
   "metadata": {},
   "source": [
    "# 02-6 집합 자료형\n",
    "\n",
    "- [집합 자료형은 어떻게 만들까?](https://wikidocs.net/1015#_1)\n",
    "- [집합 자료형의 특징](https://wikidocs.net/1015#_2)\n",
    "- [교집합, 합집합, 차집합 구하기](https://wikidocs.net/1015#_3)\n",
    "- 집합 자료형 관련 함수들\n",
    "  - [값 1개 추가하기(add)](https://wikidocs.net/1015#1-add)\n",
    "  - [값 여러 개 추가하기(update)](https://wikidocs.net/1015#update)\n",
    "  - [특정 값 제거하기(remove)](https://wikidocs.net/1015#remove)"
   ]
  },
  {
   "cell_type": "code",
   "execution_count": 2,
   "id": "d933c751",
   "metadata": {
    "ExecuteTime": {
     "end_time": "2021-05-26T05:09:24.224922Z",
     "start_time": "2021-05-26T05:09:24.218909Z"
    }
   },
   "outputs": [
    {
     "data": {
      "text/plain": [
       "{1, 2, 3}"
      ]
     },
     "execution_count": 2,
     "metadata": {},
     "output_type": "execute_result"
    }
   ],
   "source": [
    "s1 = set([1,2,3])\n",
    "s1"
   ]
  },
  {
   "cell_type": "code",
   "execution_count": 4,
   "id": "dc2b42d1",
   "metadata": {
    "ExecuteTime": {
     "end_time": "2021-05-26T05:09:36.719136Z",
     "start_time": "2021-05-26T05:09:36.704137Z"
    }
   },
   "outputs": [
    {
     "data": {
      "text/plain": [
       "dict"
      ]
     },
     "execution_count": 4,
     "metadata": {},
     "output_type": "execute_result"
    }
   ],
   "source": [
    "s1 = {}\n",
    "type(s1)"
   ]
  },
  {
   "cell_type": "code",
   "execution_count": 6,
   "id": "e581bf83",
   "metadata": {
    "ExecuteTime": {
     "end_time": "2021-05-26T05:10:06.051425Z",
     "start_time": "2021-05-26T05:10:06.043447Z"
    }
   },
   "outputs": [
    {
     "data": {
      "text/plain": [
       "{'H', 'e', 'l', 'o'}"
      ]
     },
     "execution_count": 6,
     "metadata": {},
     "output_type": "execute_result"
    }
   ],
   "source": [
    "s2 = set(\"Hello\")\n",
    "s2"
   ]
  },
  {
   "cell_type": "code",
   "execution_count": 9,
   "id": "9ff9a23a",
   "metadata": {
    "ExecuteTime": {
     "end_time": "2021-05-26T05:10:23.619276Z",
     "start_time": "2021-05-26T05:10:23.599287Z"
    }
   },
   "outputs": [
    {
     "ename": "SyntaxError",
     "evalue": "can't assign to literal (<ipython-input-9-57c121f56f44>, line 1)",
     "output_type": "error",
     "traceback": [
      "\u001b[1;36m  File \u001b[1;32m\"<ipython-input-9-57c121f56f44>\"\u001b[1;36m, line \u001b[1;32m1\u001b[0m\n\u001b[1;33m    1 = list(\"Hello\")\u001b[0m\n\u001b[1;37m                     ^\u001b[0m\n\u001b[1;31mSyntaxError\u001b[0m\u001b[1;31m:\u001b[0m can't assign to literal\n"
     ]
    }
   ],
   "source": [
    "1 = list(\"Hello\")"
   ]
  },
  {
   "cell_type": "code",
   "execution_count": 11,
   "id": "787da4a9",
   "metadata": {
    "ExecuteTime": {
     "end_time": "2021-05-26T05:10:36.717635Z",
     "start_time": "2021-05-26T05:10:36.704627Z"
    }
   },
   "outputs": [
    {
     "data": {
      "text/plain": [
       "1"
      ]
     },
     "execution_count": 11,
     "metadata": {},
     "output_type": "execute_result"
    }
   ],
   "source": [
    "1"
   ]
  },
  {
   "cell_type": "code",
   "execution_count": 13,
   "id": "5e275100",
   "metadata": {
    "ExecuteTime": {
     "end_time": "2021-05-26T05:11:00.251765Z",
     "start_time": "2021-05-26T05:11:00.242769Z"
    }
   },
   "outputs": [
    {
     "data": {
      "text/plain": [
       "('h', 'e', 'l', 'l', 'o')"
      ]
     },
     "execution_count": 13,
     "metadata": {},
     "output_type": "execute_result"
    }
   ],
   "source": [
    "t1 = tuple(\"hello\")\n",
    "t1"
   ]
  },
  {
   "cell_type": "markdown",
   "id": "b2982d27",
   "metadata": {},
   "source": [
    "## 집합 자료형의 특징\n",
    "\n",
    "자, 그런데 위에서 살펴본 set(\"Hello\")의 결과가 좀 이상하지 않은가? 분명 \"Hello\" 문자열로 set 자료형을 만들었는데 생성된 자료형에는 l 문자가 하나 빠져 있고 순서도 뒤죽박죽이다. 그 이유는 set에 다음과 같은 2가지 큰 특징이 있기 때문이다.\n",
    "\n",
    "- 중복을 허용하지 않는다.\n",
    "- 순서가 없다(Unordered).\n",
    "\n",
    "리스트나 튜플은 순서가 있기(ordered) 때문에 인덱싱을 통해 자료형의 값을 얻을 수 있지만 set 자료형은 순서가 없기(unordered) 때문에 인덱싱으로 값을 얻을 수 없다. 이는 마치 02-5에서 살펴본 딕셔너리와 비슷하다. 딕셔너리 역시 순서가 없는 자료형이라 인덱싱을 지원하지 않는다.\n",
    "\n",
    "만약 set 자료형에 저장된 값을 인덱싱으로 접근하려면 다음과 같이 리스트나 튜플로 변환한후 해야 한다.\n",
    "\n",
    "> ※ 중복을 허용하지 않는 set의 특징은 자료형의 중복을 제거하기 위한 필터 역할로 종종 사용하기도 한다."
   ]
  },
  {
   "cell_type": "code",
   "execution_count": 15,
   "id": "8f35346e",
   "metadata": {
    "ExecuteTime": {
     "end_time": "2021-05-26T05:12:08.608282Z",
     "start_time": "2021-05-26T05:12:08.601286Z"
    }
   },
   "outputs": [
    {
     "data": {
      "text/plain": [
       "{1, 2, 3}"
      ]
     },
     "execution_count": 15,
     "metadata": {},
     "output_type": "execute_result"
    }
   ],
   "source": [
    "s1 = {1,2,1,2,1,2,3}\n",
    "s1"
   ]
  },
  {
   "cell_type": "code",
   "execution_count": 16,
   "id": "55db8ccc",
   "metadata": {
    "ExecuteTime": {
     "end_time": "2021-05-26T05:20:38.235764Z",
     "start_time": "2021-05-26T05:20:38.227750Z"
    }
   },
   "outputs": [
    {
     "data": {
      "text/plain": [
       "{1, 2, 3}"
      ]
     },
     "execution_count": 16,
     "metadata": {},
     "output_type": "execute_result"
    }
   ],
   "source": [
    "s1 = {1,2,1,2,1,2,3}\n",
    "s1"
   ]
  },
  {
   "cell_type": "markdown",
   "id": "e6e532fb",
   "metadata": {},
   "source": [
    "## 교집합, 합집합, 차집합 구하기\n",
    "\n",
    "set 자료형을 정말 유용하게 사용하는 경우는 교집합, 합집합, 차집합을 구할 때이다.\n",
    "\n",
    "우선 다음과 같이 2개의 set 자료형을 만든 후 따라 해 보자. s1은 1부터 6까지의 값을 가지게 되었고, s2는 4부터 9까지의 값을 가지게 되었다."
   ]
  },
  {
   "cell_type": "code",
   "execution_count": 18,
   "id": "6672268c",
   "metadata": {
    "ExecuteTime": {
     "end_time": "2021-05-26T05:21:45.469648Z",
     "start_time": "2021-05-26T05:21:45.458656Z"
    }
   },
   "outputs": [],
   "source": [
    ">>> s1 = set([1, 2, 3, 4, 5, 6])\n",
    ">>> s2 = set([4, 5, 6, 7, 8, 9])"
   ]
  },
  {
   "cell_type": "markdown",
   "id": "9728ed53",
   "metadata": {
    "ExecuteTime": {
     "end_time": "2021-05-26T05:21:58.913365Z",
     "start_time": "2021-05-26T05:21:58.907351Z"
    }
   },
   "source": [
    "### 1. 교집합\n",
    "\n",
    "s1과 s2의 교집합을 구해 보자."
   ]
  },
  {
   "cell_type": "code",
   "execution_count": 21,
   "id": "e0a31336",
   "metadata": {
    "ExecuteTime": {
     "end_time": "2021-05-26T05:22:32.484685Z",
     "start_time": "2021-05-26T05:22:32.468695Z"
    }
   },
   "outputs": [
    {
     "data": {
      "text/plain": [
       "{4, 5, 6}"
      ]
     },
     "execution_count": 21,
     "metadata": {},
     "output_type": "execute_result"
    }
   ],
   "source": [
    "s1 & s2"
   ]
  },
  {
   "cell_type": "markdown",
   "id": "992af4ee",
   "metadata": {},
   "source": [
    "\"&\" 기호를 이용하면 교집합을 간단히 구할 수 있다.\n",
    "\n",
    "또는 다음과 같이 intersection 함수를 사용해도 동일한 결과를 돌려준다."
   ]
  },
  {
   "cell_type": "code",
   "execution_count": 23,
   "id": "53adaac1",
   "metadata": {
    "ExecuteTime": {
     "end_time": "2021-05-26T05:22:55.305385Z",
     "start_time": "2021-05-26T05:22:55.298404Z"
    }
   },
   "outputs": [
    {
     "data": {
      "text/plain": [
       "{4, 5, 6}"
      ]
     },
     "execution_count": 23,
     "metadata": {},
     "output_type": "execute_result"
    }
   ],
   "source": [
    "s1.intersection(s2)"
   ]
  },
  {
   "cell_type": "code",
   "execution_count": 25,
   "id": "ec19668e",
   "metadata": {
    "ExecuteTime": {
     "end_time": "2021-05-26T05:23:03.470716Z",
     "start_time": "2021-05-26T05:23:03.457717Z"
    }
   },
   "outputs": [
    {
     "data": {
      "text/plain": [
       "{4, 5, 6, 7, 8, 9}"
      ]
     },
     "execution_count": 25,
     "metadata": {},
     "output_type": "execute_result"
    }
   ],
   "source": [
    "s2"
   ]
  },
  {
   "cell_type": "code",
   "execution_count": 27,
   "id": "49631369",
   "metadata": {
    "ExecuteTime": {
     "end_time": "2021-05-26T05:23:05.290422Z",
     "start_time": "2021-05-26T05:23:05.275413Z"
    }
   },
   "outputs": [
    {
     "data": {
      "text/plain": [
       "{1, 2, 3, 4, 5, 6}"
      ]
     },
     "execution_count": 27,
     "metadata": {},
     "output_type": "execute_result"
    }
   ],
   "source": [
    "s1"
   ]
  },
  {
   "cell_type": "markdown",
   "id": "e2042d3d",
   "metadata": {},
   "source": [
    "\n",
    "\n",
    "### 2. 합집합\n",
    "\n",
    "합집합은 다음과 같이 구할 수 있다. 이때 4, 5, 6처럼 중복해서 포함된 값은 한 개씩만 표현된다."
   ]
  },
  {
   "cell_type": "code",
   "execution_count": 29,
   "id": "e826ba6b",
   "metadata": {
    "ExecuteTime": {
     "end_time": "2021-05-26T05:23:54.973961Z",
     "start_time": "2021-05-26T05:23:54.963967Z"
    }
   },
   "outputs": [
    {
     "data": {
      "text/plain": [
       "{1, 2, 3, 4, 5, 6, 7, 8, 9}"
      ]
     },
     "execution_count": 29,
     "metadata": {},
     "output_type": "execute_result"
    }
   ],
   "source": [
    "s1 | s2"
   ]
  },
  {
   "cell_type": "code",
   "execution_count": 30,
   "id": "3c46fe8c",
   "metadata": {
    "ExecuteTime": {
     "end_time": "2021-05-26T05:24:03.380966Z",
     "start_time": "2021-05-26T05:24:03.368990Z"
    }
   },
   "outputs": [
    {
     "data": {
      "text/plain": [
       "{1, 2, 3, 4, 5, 6, 7, 8, 9}"
      ]
     },
     "execution_count": 30,
     "metadata": {},
     "output_type": "execute_result"
    }
   ],
   "source": [
    "s1.union(s2)"
   ]
  },
  {
   "cell_type": "markdown",
   "id": "e9cdf446",
   "metadata": {},
   "source": [
    "### 차집합\n",
    "\n",
    "차집합은 다음과 같이 구할 수 있다."
   ]
  },
  {
   "cell_type": "code",
   "execution_count": 33,
   "id": "14acca6d",
   "metadata": {
    "ExecuteTime": {
     "end_time": "2021-05-26T05:39:03.288983Z",
     "start_time": "2021-05-26T05:39:03.275989Z"
    }
   },
   "outputs": [
    {
     "data": {
      "text/plain": [
       "{1, 2, 3}"
      ]
     },
     "execution_count": 33,
     "metadata": {},
     "output_type": "execute_result"
    }
   ],
   "source": [
    "s1 - s2"
   ]
  },
  {
   "cell_type": "code",
   "execution_count": 35,
   "id": "89c3eff2",
   "metadata": {
    "ExecuteTime": {
     "end_time": "2021-05-26T05:39:03.382874Z",
     "start_time": "2021-05-26T05:39:03.369883Z"
    }
   },
   "outputs": [
    {
     "data": {
      "text/plain": [
       "{7, 8, 9}"
      ]
     },
     "execution_count": 35,
     "metadata": {},
     "output_type": "execute_result"
    }
   ],
   "source": [
    "s2 - s1"
   ]
  },
  {
   "cell_type": "code",
   "execution_count": 37,
   "id": "816cf660",
   "metadata": {
    "ExecuteTime": {
     "end_time": "2021-05-26T05:39:03.474833Z",
     "start_time": "2021-05-26T05:39:03.460829Z"
    }
   },
   "outputs": [
    {
     "data": {
      "text/plain": [
       "{1, 2, 3}"
      ]
     },
     "execution_count": 37,
     "metadata": {},
     "output_type": "execute_result"
    }
   ],
   "source": [
    "s1.difference(s2)"
   ]
  },
  {
   "cell_type": "code",
   "execution_count": 39,
   "id": "3998d100",
   "metadata": {
    "ExecuteTime": {
     "end_time": "2021-05-26T05:39:03.568765Z",
     "start_time": "2021-05-26T05:39:03.554773Z"
    }
   },
   "outputs": [
    {
     "data": {
      "text/plain": [
       "{7, 8, 9}"
      ]
     },
     "execution_count": 39,
     "metadata": {},
     "output_type": "execute_result"
    }
   ],
   "source": [
    "s2.difference(s1)"
   ]
  },
  {
   "cell_type": "code",
   "execution_count": 41,
   "id": "f5b61f33",
   "metadata": {
    "ExecuteTime": {
     "end_time": "2021-05-26T05:39:03.663711Z",
     "start_time": "2021-05-26T05:39:03.649719Z"
    }
   },
   "outputs": [
    {
     "data": {
      "text/plain": [
       "{1, 2, 3, 7, 8, 9}"
      ]
     },
     "execution_count": 41,
     "metadata": {},
     "output_type": "execute_result"
    }
   ],
   "source": [
    "s2.symmetric_difference(s1)"
   ]
  },
  {
   "cell_type": "code",
   "execution_count": null,
   "id": "2593de4c",
   "metadata": {
    "ExecuteTime": {
     "end_time": "2021-05-26T05:39:03.714681Z",
     "start_time": "2021-05-26T05:32:01.835Z"
    }
   },
   "outputs": [],
   "source": [
    "dict(({\"1\",2), (\"3\",4), (\"4\",3)}))"
   ]
  },
  {
   "cell_type": "code",
   "execution_count": null,
   "id": "0f9ed5b3",
   "metadata": {
    "ExecuteTime": {
     "start_time": "2021-05-26T05:39:46.575Z"
    }
   },
   "outputs": [],
   "source": [
    "s1 = {(\"1\",2), (\"3\",4), (\"4\",3)}\n",
    "s1 = list(s1)\n",
    "s2 = []\n",
    "for i in s1:\n",
    "    print(i)\n",
    "    a = list(i)\n",
    "    s2.append(a)\n",
    "s1 = set(s2)\n",
    "print(s1)"
   ]
  },
  {
   "cell_type": "code",
   "execution_count": null,
   "id": "1db300ed",
   "metadata": {},
   "outputs": [],
   "source": []
  }
 ],
 "metadata": {
  "hide_input": false,
  "kernelspec": {
   "display_name": "Python 3",
   "language": "python",
   "name": "python3"
  },
  "language_info": {
   "codemirror_mode": {
    "name": "ipython",
    "version": 3
   },
   "file_extension": ".py",
   "mimetype": "text/x-python",
   "name": "python",
   "nbconvert_exporter": "python",
   "pygments_lexer": "ipython3",
   "version": "3.7.9"
  },
  "toc": {
   "base_numbering": 1,
   "nav_menu": {},
   "number_sections": true,
   "sideBar": true,
   "skip_h1_title": false,
   "title_cell": "Table of Contents",
   "title_sidebar": "Contents",
   "toc_cell": false,
   "toc_position": {},
   "toc_section_display": true,
   "toc_window_display": false
  },
  "varInspector": {
   "cols": {
    "lenName": 16,
    "lenType": 16,
    "lenVar": 40
   },
   "kernels_config": {
    "python": {
     "delete_cmd_postfix": "",
     "delete_cmd_prefix": "del ",
     "library": "var_list.py",
     "varRefreshCmd": "print(var_dic_list())"
    },
    "r": {
     "delete_cmd_postfix": ") ",
     "delete_cmd_prefix": "rm(",
     "library": "var_list.r",
     "varRefreshCmd": "cat(var_dic_list()) "
    }
   },
   "types_to_exclude": [
    "module",
    "function",
    "builtin_function_or_method",
    "instance",
    "_Feature"
   ],
   "window_display": false
  }
 },
 "nbformat": 4,
 "nbformat_minor": 5
}
