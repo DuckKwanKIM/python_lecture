{
 "cells": [
  {
   "cell_type": "code",
   "execution_count": 5,
   "id": "3f70ed82",
   "metadata": {
    "ExecuteTime": {
     "end_time": "2021-05-26T00:27:14.007542Z",
     "start_time": "2021-05-26T00:27:13.996546Z"
    }
   },
   "outputs": [
    {
     "data": {
      "text/plain": [
       "list"
      ]
     },
     "execution_count": 5,
     "metadata": {},
     "output_type": "execute_result"
    }
   ],
   "source": [
    "even_list = [2, 4, 6, 8, 10]\n",
    "type(even_list)"
   ]
  },
  {
   "cell_type": "code",
   "execution_count": 9,
   "id": "e8e1af18",
   "metadata": {
    "ExecuteTime": {
     "end_time": "2021-05-26T00:28:14.014586Z",
     "start_time": "2021-05-26T00:28:14.002594Z"
    }
   },
   "outputs": [
    {
     "data": {
      "text/plain": [
       "range"
      ]
     },
     "execution_count": 9,
     "metadata": {},
     "output_type": "execute_result"
    }
   ],
   "source": [
    "list_data = range(10)\n",
    "type(list_data)"
   ]
  },
  {
   "cell_type": "code",
   "execution_count": 11,
   "id": "9f47b56c",
   "metadata": {
    "ExecuteTime": {
     "end_time": "2021-05-26T00:30:26.568185Z",
     "start_time": "2021-05-26T00:30:26.551178Z"
    }
   },
   "outputs": [
    {
     "name": "stdout",
     "output_type": "stream",
     "text": [
      "2\n",
      "4\n",
      "6\n",
      "8\n",
      "10\n"
     ]
    }
   ],
   "source": [
    "for i in range(1, 11):\n",
    "    if i%2 == 0:\n",
    "        print(i)\n",
    "        "
   ]
  },
  {
   "cell_type": "code",
   "execution_count": 14,
   "id": "42dc2df6",
   "metadata": {
    "ExecuteTime": {
     "end_time": "2021-05-26T00:35:13.493892Z",
     "start_time": "2021-05-26T00:35:13.486879Z"
    }
   },
   "outputs": [
    {
     "name": "stdout",
     "output_type": "stream",
     "text": [
      "[2, 4, 6, 8, 10]\n"
     ]
    }
   ],
   "source": [
    "list_data = []\n",
    "for i in range(1, 11):\n",
    "    if i%2 == 0:\n",
    "        list_data.append(i)\n",
    "\n",
    "list_data_1 = []        \n",
    "for i in list_data:\n",
    "    if i == 4:\n",
    "        continue\n",
    "    \n",
    "        \n",
    "print(list_data)\n"
   ]
  },
  {
   "cell_type": "markdown",
   "id": "0f6b216a",
   "metadata": {},
   "source": [
    "### 리스트 자료형"
   ]
  },
  {
   "cell_type": "markdown",
   "id": "958b90fe",
   "metadata": {},
   "source": [
    "지금까지 우리는 숫자와 문자열에 대해서 알아보았다. 하지만 숫자와 문자열만으로 프로그래밍을 하기엔 부족한 점이 많다. 예를 들어 1부터 10까지의 숫자 중 홀수 모음인 1, 3, 5, 7, 9의 집합을 생각해 보자. 이런 숫자 모음을 숫자나 문자열로 표현하기는 쉽지 않다. 파이썬에는 이러한 불편함을 해소할 수 있는 자료형이 존재한다. 그것이 바로 여기에서 공부할 리스트(List)이다."
   ]
  },
  {
   "cell_type": "markdown",
   "id": "75b3e776",
   "metadata": {
    "ExecuteTime": {
     "end_time": "2021-05-26T00:48:12.006362Z",
     "start_time": "2021-05-26T00:48:11.999366Z"
    }
   },
   "source": [
    "\n",
    "\n",
    "리스트를 만들 때는 위에서 보는 것과 같이 대괄호([ ])로 감싸 주고 각 요솟값은 쉼표(,)로 구분해 준다.\n",
    "\n",
    "```\n",
    "리스트명 = [요소1, 요소2, 요소3, ...]\n",
    "```\n",
    "\n",
    "여러 가지 리스트의 생김새를 살펴보면 다음과 같다.\n",
    "\n"
   ]
  },
  {
   "cell_type": "code",
   "execution_count": 19,
   "id": "cc076c7b",
   "metadata": {
    "ExecuteTime": {
     "end_time": "2021-05-26T00:48:36.061703Z",
     "start_time": "2021-05-26T00:48:36.048713Z"
    }
   },
   "outputs": [
    {
     "data": {
      "text/plain": [
       "1"
      ]
     },
     "execution_count": 19,
     "metadata": {},
     "output_type": "execute_result"
    }
   ],
   "source": [
    "a = [1, 2, 3]\n",
    "a[0]"
   ]
  },
  {
   "cell_type": "code",
   "execution_count": 21,
   "id": "80ab41f6",
   "metadata": {
    "ExecuteTime": {
     "end_time": "2021-05-26T00:48:52.540257Z",
     "start_time": "2021-05-26T00:48:52.522283Z"
    }
   },
   "outputs": [
    {
     "data": {
      "text/plain": [
       "4"
      ]
     },
     "execution_count": 21,
     "metadata": {},
     "output_type": "execute_result"
    }
   ],
   "source": [
    "a[0]+a[2]"
   ]
  },
  {
   "cell_type": "code",
   "execution_count": 23,
   "id": "028c86d2",
   "metadata": {
    "ExecuteTime": {
     "end_time": "2021-05-26T00:50:20.888328Z",
     "start_time": "2021-05-26T00:50:20.869356Z"
    }
   },
   "outputs": [
    {
     "data": {
      "text/plain": [
       "1"
      ]
     },
     "execution_count": 23,
     "metadata": {},
     "output_type": "execute_result"
    }
   ],
   "source": [
    "a[0]**a[2]"
   ]
  },
  {
   "cell_type": "code",
   "execution_count": 25,
   "id": "d358ac37",
   "metadata": {
    "ExecuteTime": {
     "end_time": "2021-05-26T00:50:46.779101Z",
     "start_time": "2021-05-26T00:50:46.768125Z"
    }
   },
   "outputs": [
    {
     "data": {
      "text/plain": [
       "2"
      ]
     },
     "execution_count": 25,
     "metadata": {},
     "output_type": "execute_result"
    }
   ],
   "source": [
    "[1, 2, 3][1]"
   ]
  },
  {
   "cell_type": "code",
   "execution_count": 26,
   "id": "ffdf0634",
   "metadata": {
    "ExecuteTime": {
     "end_time": "2021-05-26T00:50:50.122304Z",
     "start_time": "2021-05-26T00:50:50.116308Z"
    }
   },
   "outputs": [
    {
     "data": {
      "text/plain": [
       "3"
      ]
     },
     "execution_count": 26,
     "metadata": {},
     "output_type": "execute_result"
    }
   ],
   "source": [
    "a[-1]"
   ]
  },
  {
   "cell_type": "code",
   "execution_count": 29,
   "id": "d7ba3cae",
   "metadata": {
    "ExecuteTime": {
     "end_time": "2021-05-26T01:12:07.783120Z",
     "start_time": "2021-05-26T01:12:07.767129Z"
    }
   },
   "outputs": [
    {
     "data": {
      "text/plain": [
       "['a', 'b', 'c']"
      ]
     },
     "execution_count": 29,
     "metadata": {},
     "output_type": "execute_result"
    }
   ],
   "source": [
    "a = [1, 2, 3, [\"a\", \"b\", \"c\"]]\n",
    "a[3]"
   ]
  },
  {
   "cell_type": "code",
   "execution_count": 31,
   "id": "491eb9bc",
   "metadata": {
    "ExecuteTime": {
     "end_time": "2021-05-26T01:13:22.703096Z",
     "start_time": "2021-05-26T01:13:22.697115Z"
    }
   },
   "outputs": [
    {
     "data": {
      "text/plain": [
       "'b'"
      ]
     },
     "execution_count": 31,
     "metadata": {},
     "output_type": "execute_result"
    }
   ],
   "source": [
    "a[3][1]"
   ]
  },
  {
   "cell_type": "code",
   "execution_count": 33,
   "id": "d59622a2",
   "metadata": {
    "ExecuteTime": {
     "end_time": "2021-05-26T01:14:57.206898Z",
     "start_time": "2021-05-26T01:14:57.188917Z"
    }
   },
   "outputs": [
    {
     "data": {
      "text/plain": [
       "'Life'"
      ]
     },
     "execution_count": 33,
     "metadata": {},
     "output_type": "execute_result"
    }
   ],
   "source": [
    "a = [1, 2, ['a', 'b', ['Life', 'is']]]\n",
    "a[-1][-1][0]"
   ]
  },
  {
   "cell_type": "markdown",
   "id": "1002cfe5",
   "metadata": {
    "ExecuteTime": {
     "end_time": "2021-05-26T01:15:22.955624Z",
     "start_time": "2021-05-26T01:15:22.940629Z"
    }
   },
   "source": [
    "### 리스트의 슬라이싱\n",
    "\n",
    "문자열과 마찬가지로 리스트에서도 슬라이싱 기법을 적용할 수 있다. 슬라이싱은 ‘나눈다’는 뜻이라고 했다.\n",
    "\n",
    "자, 그럼 리스트의 슬라이싱에 대해서 살펴보자."
   ]
  },
  {
   "cell_type": "code",
   "execution_count": 39,
   "id": "02046907",
   "metadata": {
    "ExecuteTime": {
     "end_time": "2021-05-26T01:16:52.051987Z",
     "start_time": "2021-05-26T01:16:52.033999Z"
    }
   },
   "outputs": [
    {
     "data": {
      "text/plain": [
       "[2, 3, 4]"
      ]
     },
     "execution_count": 39,
     "metadata": {},
     "output_type": "execute_result"
    }
   ],
   "source": [
    "a = [1, 2, 3, 4, 5]\n",
    "a[1:4]"
   ]
  },
  {
   "cell_type": "code",
   "execution_count": 40,
   "id": "92368615",
   "metadata": {
    "ExecuteTime": {
     "end_time": "2021-05-26T01:17:45.853262Z",
     "start_time": "2021-05-26T01:17:45.834289Z"
    }
   },
   "outputs": [
    {
     "data": {
      "text/plain": [
       "[1, 2, 3, 4]"
      ]
     },
     "execution_count": 40,
     "metadata": {},
     "output_type": "execute_result"
    }
   ],
   "source": [
    "b = a[:4]"
   ]
  },
  {
   "cell_type": "code",
   "execution_count": 42,
   "id": "2313772a",
   "metadata": {
    "ExecuteTime": {
     "end_time": "2021-05-26T01:18:31.026087Z",
     "start_time": "2021-05-26T01:18:31.017074Z"
    }
   },
   "outputs": [
    {
     "data": {
      "text/plain": [
       "[2, 3, 4, 5]"
      ]
     },
     "execution_count": 42,
     "metadata": {},
     "output_type": "execute_result"
    }
   ],
   "source": [
    "c = a[1:]\n",
    "c"
   ]
  },
  {
   "cell_type": "code",
   "execution_count": 44,
   "id": "cf5b07af",
   "metadata": {
    "ExecuteTime": {
     "end_time": "2021-05-26T01:19:36.312116Z",
     "start_time": "2021-05-26T01:19:36.295123Z"
    }
   },
   "outputs": [
    {
     "data": {
      "text/plain": [
       "[1, 2, 3, 4, 5]"
      ]
     },
     "execution_count": 44,
     "metadata": {},
     "output_type": "execute_result"
    }
   ],
   "source": [
    "a[:]"
   ]
  },
  {
   "cell_type": "markdown",
   "id": "9d6f4943",
   "metadata": {},
   "source": [
    "## 리스트 연산하기\n",
    "\n",
    "리스트 역시 + 기호를 사용해서 더할 수 있고 `*` 기호를 사용해서 반복할 수 있다. 문자열과 마찬가지로 리스트에서도 되는지 직접 확인해 보자."
   ]
  },
  {
   "cell_type": "markdown",
   "id": "a5bdbc94",
   "metadata": {},
   "source": [
    "리스트 더하기(+)"
   ]
  },
  {
   "cell_type": "code",
   "execution_count": 46,
   "id": "beba7211",
   "metadata": {
    "ExecuteTime": {
     "end_time": "2021-05-26T01:22:27.921729Z",
     "start_time": "2021-05-26T01:22:27.901742Z"
    }
   },
   "outputs": [
    {
     "data": {
      "text/plain": [
       "[1, 2, 3, 4, 5, 6]"
      ]
     },
     "execution_count": 46,
     "metadata": {},
     "output_type": "execute_result"
    }
   ],
   "source": [
    "a = [1,2,3]\n",
    "b = [4,5,6]\n",
    "a+b"
   ]
  },
  {
   "cell_type": "markdown",
   "id": "fdabd92c",
   "metadata": {},
   "source": [
    "리스트 반복하기(*)"
   ]
  },
  {
   "cell_type": "code",
   "execution_count": 50,
   "id": "2d05c065",
   "metadata": {
    "ExecuteTime": {
     "end_time": "2021-05-26T01:26:00.680300Z",
     "start_time": "2021-05-26T01:26:00.660294Z"
    }
   },
   "outputs": [
    {
     "data": {
      "text/plain": [
       "[1, 2, 3, 1, 2, 3, 1, 2, 3]"
      ]
     },
     "execution_count": 50,
     "metadata": {},
     "output_type": "execute_result"
    }
   ],
   "source": [
    "a = [1,2,3]\n",
    "b = [4,5,6]\n",
    "a*3"
   ]
  },
  {
   "cell_type": "markdown",
   "id": "a7358339",
   "metadata": {},
   "source": [
    "### 리스트 길이구하기\n",
    "\n",
    "리스트 길이를 구하기 위해서는 다음처럼 len 함수를 사용해야 한다."
   ]
  },
  {
   "cell_type": "code",
   "execution_count": 52,
   "id": "f0e273da",
   "metadata": {
    "ExecuteTime": {
     "end_time": "2021-05-26T01:29:39.768473Z",
     "start_time": "2021-05-26T01:29:39.755463Z"
    }
   },
   "outputs": [
    {
     "data": {
      "text/plain": [
       "3"
      ]
     },
     "execution_count": 52,
     "metadata": {},
     "output_type": "execute_result"
    }
   ],
   "source": [
    "a = [1, 2, 3]\n",
    "len(a)"
   ]
  },
  {
   "cell_type": "markdown",
   "id": "09102b39",
   "metadata": {},
   "source": [
    "## 리스트의 수정과 삭제\n",
    "\n",
    "리스트는 값을 수정하거나 삭제할 수 있다.\n",
    "\n",
    "### 리스트에서 값 수정하기"
   ]
  },
  {
   "cell_type": "code",
   "execution_count": 54,
   "id": "bde41ecc",
   "metadata": {
    "ExecuteTime": {
     "end_time": "2021-05-26T01:30:32.576050Z",
     "start_time": "2021-05-26T01:30:32.556043Z"
    }
   },
   "outputs": [
    {
     "data": {
      "text/plain": [
       "[1, 2, 'a']"
      ]
     },
     "execution_count": 54,
     "metadata": {},
     "output_type": "execute_result"
    }
   ],
   "source": [
    "a = [1, 2, 3]\n",
    "a[2] = \"a\"\n",
    "a"
   ]
  },
  {
   "cell_type": "markdown",
   "id": "a0a5f825",
   "metadata": {},
   "source": [
    "### del 키워드사용해 리스트 요소 삭제하기"
   ]
  },
  {
   "cell_type": "code",
   "execution_count": 79,
   "id": "79f33a40",
   "metadata": {
    "ExecuteTime": {
     "end_time": "2021-05-26T01:41:58.094229Z",
     "start_time": "2021-05-26T01:41:58.074227Z"
    }
   },
   "outputs": [
    {
     "ename": "IndexError",
     "evalue": "list assignment index out of range",
     "output_type": "error",
     "traceback": [
      "\u001b[1;31m---------------------------------------------------------------------------\u001b[0m",
      "\u001b[1;31mIndexError\u001b[0m                                Traceback (most recent call last)",
      "\u001b[1;32m<ipython-input-79-e2d73207f6a9>\u001b[0m in \u001b[0;36m<module>\u001b[1;34m\u001b[0m\n\u001b[1;32m----> 1\u001b[1;33m \u001b[1;32mdel\u001b[0m \u001b[0ma\u001b[0m\u001b[1;33m[\u001b[0m\u001b[1;36m2\u001b[0m\u001b[1;33m]\u001b[0m\u001b[1;33m\u001b[0m\u001b[1;33m\u001b[0m\u001b[0m\n\u001b[0m\u001b[0;32m      2\u001b[0m \u001b[0ma\u001b[0m\u001b[1;33m\u001b[0m\u001b[1;33m\u001b[0m\u001b[0m\n",
      "\u001b[1;31mIndexError\u001b[0m: list assignment index out of range"
     ]
    }
   ],
   "source": [
    "del a[2]\n",
    "a"
   ]
  },
  {
   "cell_type": "markdown",
   "id": "c0d955dd",
   "metadata": {},
   "source": [
    "### remove, pop 이용하여 삭제"
   ]
  },
  {
   "cell_type": "code",
   "execution_count": 75,
   "id": "49afc1f4",
   "metadata": {
    "ExecuteTime": {
     "end_time": "2021-05-26T01:41:18.396654Z",
     "start_time": "2021-05-26T01:41:18.385661Z"
    }
   },
   "outputs": [
    {
     "data": {
      "text/plain": [
       "[1, 3, 4]"
      ]
     },
     "execution_count": 75,
     "metadata": {},
     "output_type": "execute_result"
    }
   ],
   "source": [
    "a = [1,\"2\",3,4]\n",
    "a.remove(\"2\")\n",
    "a"
   ]
  },
  {
   "cell_type": "code",
   "execution_count": null,
   "id": "b89acb11",
   "metadata": {},
   "outputs": [],
   "source": []
  },
  {
   "cell_type": "code",
   "execution_count": 65,
   "id": "e1c5dd87",
   "metadata": {
    "ExecuteTime": {
     "end_time": "2021-05-26T01:37:34.052860Z",
     "start_time": "2021-05-26T01:37:34.045863Z"
    }
   },
   "outputs": [
    {
     "data": {
      "text/plain": [
       "[1, 3, 4]"
      ]
     },
     "execution_count": 65,
     "metadata": {},
     "output_type": "execute_result"
    }
   ],
   "source": [
    "a"
   ]
  },
  {
   "cell_type": "code",
   "execution_count": 76,
   "id": "0a92c058",
   "metadata": {
    "ExecuteTime": {
     "end_time": "2021-05-26T01:41:20.775957Z",
     "start_time": "2021-05-26T01:41:20.755979Z"
    }
   },
   "outputs": [
    {
     "data": {
      "text/plain": [
       "3"
      ]
     },
     "execution_count": 76,
     "metadata": {},
     "output_type": "execute_result"
    }
   ],
   "source": [
    "a.pop(1)"
   ]
  },
  {
   "cell_type": "code",
   "execution_count": 77,
   "id": "20c10e84",
   "metadata": {
    "ExecuteTime": {
     "end_time": "2021-05-26T01:41:27.674678Z",
     "start_time": "2021-05-26T01:41:27.658686Z"
    }
   },
   "outputs": [
    {
     "data": {
      "text/plain": [
       "[1, 4]"
      ]
     },
     "execution_count": 77,
     "metadata": {},
     "output_type": "execute_result"
    }
   ],
   "source": [
    "a"
   ]
  },
  {
   "cell_type": "markdown",
   "id": "e3f3e2ef",
   "metadata": {},
   "source": [
    "## 리스트 관련 함수들\n",
    "\n",
    "문자열과 마찬가지로 리스트 변수 이름 뒤에 '.'를 붙여서 여러 가지 리스트 관련 함수를 사용할 수 있다. 유용하게 사용되는 리스트 관련 함수 몇 가지에 대해서만 알아보기로 하자.\n",
    "\n",
    "### 리스트에 요소 추가(append)\n",
    "\n",
    "append를 사전에서 검색해 보면 \"덧붙이다, 첨부하다\"라는 뜻이 있다. 이 뜻을 안다면 다음 예가 바로 이해될 것이다. append(x)는 리스트의 맨 마지막에 x를 추가하는 함수이다."
   ]
  },
  {
   "cell_type": "code",
   "execution_count": 82,
   "id": "e6bdbec5",
   "metadata": {
    "ExecuteTime": {
     "end_time": "2021-05-26T01:45:31.314102Z",
     "start_time": "2021-05-26T01:45:31.293133Z"
    }
   },
   "outputs": [
    {
     "data": {
      "text/plain": [
       "[1, '2', 3, 4, 'b']"
      ]
     },
     "execution_count": 82,
     "metadata": {},
     "output_type": "execute_result"
    }
   ],
   "source": [
    "a = [1,\"2\",3,4]\n",
    "a.append(\"b\")\n",
    "a"
   ]
  },
  {
   "cell_type": "code",
   "execution_count": 84,
   "id": "6934ab5d",
   "metadata": {
    "ExecuteTime": {
     "end_time": "2021-05-26T01:46:46.662161Z",
     "start_time": "2021-05-26T01:46:46.651182Z"
    }
   },
   "outputs": [
    {
     "data": {
      "text/plain": [
       "[1, '2', 3, 4, 'b', [1, '2', 3, 4, 'b'], [1, '2', 3, 4, 'b']]"
      ]
     },
     "execution_count": 84,
     "metadata": {},
     "output_type": "execute_result"
    }
   ],
   "source": [
    "a.append([1, '2', 3, 4, 'b'])\n",
    "a"
   ]
  },
  {
   "cell_type": "markdown",
   "id": "83291609",
   "metadata": {
    "ExecuteTime": {
     "end_time": "2021-05-26T01:47:41.203358Z",
     "start_time": "2021-05-26T01:47:41.183372Z"
    }
   },
   "source": [
    "### 리스트에 요소 삽입(insert)\n",
    "\n",
    "insert(a, b)는 리스트의 a번째 위치에 b를 삽입하는 함수이다. 파이썬에서는 숫자를 0부터 센다는 것을 반드시 기억하자."
   ]
  },
  {
   "cell_type": "code",
   "execution_count": 88,
   "id": "077da44f",
   "metadata": {
    "ExecuteTime": {
     "end_time": "2021-05-26T01:48:50.163454Z",
     "start_time": "2021-05-26T01:48:50.151469Z"
    }
   },
   "outputs": [],
   "source": [
    "a = [1, \"2\", 3, 4]\n",
    "a.insert(2, \"c\")"
   ]
  },
  {
   "cell_type": "code",
   "execution_count": 90,
   "id": "4a5f03f5",
   "metadata": {
    "ExecuteTime": {
     "end_time": "2021-05-26T01:48:56.527494Z",
     "start_time": "2021-05-26T01:48:56.507503Z"
    }
   },
   "outputs": [
    {
     "data": {
      "text/plain": [
       "[1, '2', 'c', 3, 4]"
      ]
     },
     "execution_count": 90,
     "metadata": {},
     "output_type": "execute_result"
    }
   ],
   "source": [
    "a"
   ]
  },
  {
   "cell_type": "code",
   "execution_count": 92,
   "id": "25f68c48",
   "metadata": {
    "ExecuteTime": {
     "end_time": "2021-05-26T01:49:44.700621Z",
     "start_time": "2021-05-26T01:49:44.687615Z"
    }
   },
   "outputs": [
    {
     "data": {
      "text/plain": [
       "[1, '2', 'c', 3, 4, 123]"
      ]
     },
     "execution_count": 92,
     "metadata": {},
     "output_type": "execute_result"
    }
   ],
   "source": [
    "a + [123]"
   ]
  },
  {
   "cell_type": "markdown",
   "id": "7e1578bc",
   "metadata": {},
   "source": [
    "### 리스트 정렬(sort)\n",
    "\n",
    "sort 함수는 리스트의 요소를 순서대로 정렬해 준다."
   ]
  },
  {
   "cell_type": "code",
   "execution_count": 96,
   "id": "f25004c4",
   "metadata": {
    "ExecuteTime": {
     "end_time": "2021-05-26T01:52:06.934829Z",
     "start_time": "2021-05-26T01:52:06.914852Z"
    }
   },
   "outputs": [
    {
     "data": {
      "text/plain": [
       "[1, 2, 3, 5, 100]"
      ]
     },
     "execution_count": 96,
     "metadata": {},
     "output_type": "execute_result"
    }
   ],
   "source": [
    "a = [1,2,100,5,3]\n",
    "a.sort()\n",
    "a"
   ]
  },
  {
   "cell_type": "code",
   "execution_count": 98,
   "id": "e03134c4",
   "metadata": {
    "ExecuteTime": {
     "end_time": "2021-05-26T01:52:43.966651Z",
     "start_time": "2021-05-26T01:52:43.959666Z"
    }
   },
   "outputs": [
    {
     "data": {
      "text/plain": [
       "['a', 'b', 'z']"
      ]
     },
     "execution_count": 98,
     "metadata": {},
     "output_type": "execute_result"
    }
   ],
   "source": [
    "a = [\"a\",\"z\",\"b\"]\n",
    "a.sort()\n",
    "a"
   ]
  },
  {
   "cell_type": "code",
   "execution_count": 102,
   "id": "7e3377a5",
   "metadata": {
    "ExecuteTime": {
     "end_time": "2021-05-26T01:54:04.900974Z",
     "start_time": "2021-05-26T01:54:04.885979Z"
    }
   },
   "outputs": [],
   "source": [
    "b = [\"착\",\"석\",\"금\",\"감\",\"지\"]\n",
    "b.sort()"
   ]
  },
  {
   "cell_type": "code",
   "execution_count": 104,
   "id": "0060fe96",
   "metadata": {
    "ExecuteTime": {
     "end_time": "2021-05-26T01:56:18.820091Z",
     "start_time": "2021-05-26T01:56:18.804115Z"
    }
   },
   "outputs": [
    {
     "data": {
      "text/plain": [
       "['감', '금', '석', '지', '착']"
      ]
     },
     "execution_count": 104,
     "metadata": {},
     "output_type": "execute_result"
    }
   ],
   "source": [
    "b"
   ]
  },
  {
   "cell_type": "markdown",
   "id": "9f32e614",
   "metadata": {},
   "source": [
    "### 리스트 뒤집기(reverse)\n",
    "\n",
    "reverse 함수는 리스트를 역순으로 뒤집어 준다. 이때 리스트 요소들을 순서대로 정렬한 다음 다시 역순으로 정렬하는 것이 아니라 그저 현재의 리스트를 그대로 거꾸로 뒤집는다."
   ]
  },
  {
   "cell_type": "code",
   "execution_count": 106,
   "id": "d5f22c5f",
   "metadata": {
    "ExecuteTime": {
     "end_time": "2021-05-26T01:57:11.234545Z",
     "start_time": "2021-05-26T01:57:11.226549Z"
    }
   },
   "outputs": [
    {
     "data": {
      "text/plain": [
       "[3, 5, 100, 2, 1]"
      ]
     },
     "execution_count": 106,
     "metadata": {},
     "output_type": "execute_result"
    }
   ],
   "source": [
    "a = [1,2,100,5,3]\n",
    "a.reverse()\n",
    "a"
   ]
  },
  {
   "cell_type": "code",
   "execution_count": 111,
   "id": "ec3e7916",
   "metadata": {
    "ExecuteTime": {
     "end_time": "2021-05-26T02:31:32.365424Z",
     "start_time": "2021-05-26T02:31:32.347417Z"
    }
   },
   "outputs": [
    {
     "data": {
      "text/plain": [
       "['z', 'b', 'a']"
      ]
     },
     "execution_count": 111,
     "metadata": {},
     "output_type": "execute_result"
    }
   ],
   "source": [
    "a = [\"a\",\"z\",\"b\"]\n",
    "a.sort()\n",
    "\n",
    "a.reverse()\n",
    "a"
   ]
  },
  {
   "cell_type": "markdown",
   "id": "364e5984",
   "metadata": {},
   "source": [
    "\n",
    "\n",
    "### 위치 반환(index)\n",
    "\n",
    "index(x) 함수는 리스트에 x 값이 있으면 x의 위치 값을 돌려준다."
   ]
  },
  {
   "cell_type": "code",
   "execution_count": 114,
   "id": "738d00b3",
   "metadata": {
    "ExecuteTime": {
     "end_time": "2021-05-26T02:34:23.536507Z",
     "start_time": "2021-05-26T02:34:23.529493Z"
    }
   },
   "outputs": [
    {
     "data": {
      "text/plain": [
       "2"
      ]
     },
     "execution_count": 114,
     "metadata": {},
     "output_type": "execute_result"
    }
   ],
   "source": [
    "a = [\"a\",\"b\",\"c\",\"c\"]\n",
    "a.index(\"c\")"
   ]
  },
  {
   "cell_type": "markdown",
   "id": "94a3716e",
   "metadata": {},
   "source": [
    "### 리스트 요소 끄집어내기(pop)\n",
    "pop()은 리스트의 맨 마지막 요소를 돌려주고 그 요소는 삭제한다."
   ]
  },
  {
   "cell_type": "code",
   "execution_count": 119,
   "id": "bf56cc71",
   "metadata": {
    "ExecuteTime": {
     "end_time": "2021-05-26T02:36:43.983174Z",
     "start_time": "2021-05-26T02:36:43.972182Z"
    }
   },
   "outputs": [
    {
     "data": {
      "text/plain": [
       "['a', 'c', 'c']"
      ]
     },
     "execution_count": 119,
     "metadata": {},
     "output_type": "execute_result"
    }
   ],
   "source": [
    "a = [\"a\",\"b\",\"c\",\"c\"]\n",
    "a.pop(1)\n",
    "a"
   ]
  },
  {
   "cell_type": "markdown",
   "id": "ceeb9875",
   "metadata": {},
   "source": [
    "### 리스트 확장(extend)\n",
    "extend(x)에서 x에는 리스트만 올 수 있으며 원래의 a 리스트에 x 리스트를 더하게 된다."
   ]
  },
  {
   "cell_type": "code",
   "execution_count": 122,
   "id": "cd5cd044",
   "metadata": {
    "ExecuteTime": {
     "end_time": "2021-05-26T02:39:06.895607Z",
     "start_time": "2021-05-26T02:39:06.882605Z"
    }
   },
   "outputs": [
    {
     "data": {
      "text/plain": [
       "[1, 2, 3, 4, 'a', 'b', 'c', 'c']"
      ]
     },
     "execution_count": 122,
     "metadata": {},
     "output_type": "execute_result"
    }
   ],
   "source": [
    "a = [\"a\",\"b\",\"c\",\"c\"]\n",
    "b = [1,2,3,4]\n",
    "b.extend(a)\n",
    "b"
   ]
  },
  {
   "cell_type": "code",
   "execution_count": 123,
   "id": "d435b8eb",
   "metadata": {
    "ExecuteTime": {
     "end_time": "2021-05-26T02:39:10.058457Z",
     "start_time": "2021-05-26T02:39:10.046468Z"
    }
   },
   "outputs": [
    {
     "data": {
      "text/plain": [
       "['a', 'b', 'c', 'c', 1, 2, 3, 4, 'a', 'b', 'c', 'c']"
      ]
     },
     "execution_count": 123,
     "metadata": {},
     "output_type": "execute_result"
    }
   ],
   "source": [
    "a+b"
   ]
  }
 ],
 "metadata": {
  "hide_input": false,
  "kernelspec": {
   "display_name": "Python 3",
   "language": "python",
   "name": "python3"
  },
  "language_info": {
   "codemirror_mode": {
    "name": "ipython",
    "version": 3
   },
   "file_extension": ".py",
   "mimetype": "text/x-python",
   "name": "python",
   "nbconvert_exporter": "python",
   "pygments_lexer": "ipython3",
   "version": "3.7.9"
  },
  "toc": {
   "base_numbering": 1,
   "nav_menu": {},
   "number_sections": true,
   "sideBar": true,
   "skip_h1_title": false,
   "title_cell": "Table of Contents",
   "title_sidebar": "Contents",
   "toc_cell": false,
   "toc_position": {},
   "toc_section_display": true,
   "toc_window_display": false
  },
  "varInspector": {
   "cols": {
    "lenName": 16,
    "lenType": 16,
    "lenVar": 40
   },
   "kernels_config": {
    "python": {
     "delete_cmd_postfix": "",
     "delete_cmd_prefix": "del ",
     "library": "var_list.py",
     "varRefreshCmd": "print(var_dic_list())"
    },
    "r": {
     "delete_cmd_postfix": ") ",
     "delete_cmd_prefix": "rm(",
     "library": "var_list.r",
     "varRefreshCmd": "cat(var_dic_list()) "
    }
   },
   "types_to_exclude": [
    "module",
    "function",
    "builtin_function_or_method",
    "instance",
    "_Feature"
   ],
   "window_display": false
  }
 },
 "nbformat": 4,
 "nbformat_minor": 5
}
