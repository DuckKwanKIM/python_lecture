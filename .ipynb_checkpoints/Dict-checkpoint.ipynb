{
 "cells": [
  {
   "cell_type": "markdown",
   "id": "414e88df",
   "metadata": {},
   "source": [
    "# 02-5 딕셔너리 자료형\n",
    "\n",
    "- [딕셔너리란?](https://wikidocs.net/16#_1)\n",
    "- [딕셔너리는 어떻게 만들까?](https://wikidocs.net/16#_2)\n",
    "- 딕셔너리 쌍 추가, 삭제하기\n",
    "  - [딕셔너리 쌍 추가하기](https://wikidocs.net/16#_4)\n",
    "  - [딕셔너리 요소 삭제하기](https://wikidocs.net/16#_5)\n",
    "- 딕셔너리를 사용하는 방법\n",
    "  - [딕셔너리에서 Key 사용해 Value 얻기](https://wikidocs.net/16#key-value)\n",
    "  - [딕셔너리 만들 때 주의할 사항](https://wikidocs.net/16#_7)\n",
    "- 딕셔너리 관련 함수들\n",
    "  - [Key 리스트 만들기(keys)](https://wikidocs.net/16#key-keys)\n",
    "  - [Value 리스트 만들기(values)](https://wikidocs.net/16#value-values)\n",
    "  - [Key, Value 쌍 얻기(items)](https://wikidocs.net/16#key-value-items)\n",
    "  - [Key: Value 쌍 모두 지우기(clear)](https://wikidocs.net/16#key-value-clear)\n",
    "  - [Key로 Value얻기(get)](https://wikidocs.net/16#key-valueget)\n",
    "  - [해당 Key가 딕셔너리 안에 있는지 조사하기(in)](https://wikidocs.net/16#key-in)\n",
    "  \n",
    "  - ## 딕셔너리는 어떻게 만들까?\n",
    "\n",
    "  다음은 기본 딕셔너리의 모습이다.\n",
    "\n",
    "  ```\n",
    "  {Key1:Value1, Key2:Value2, Key3:Value3, ...}\n",
    "  ```\n",
    "\n",
    "  Key와 Value의 쌍 여러 개가 { }로 둘러싸여 있다. 각각의 요소는 Key : Value 형태로 이루어져 있고 쉼표(,)로 구분되어 있다.\n",
    "\n"
   ]
  },
  {
   "cell_type": "code",
   "execution_count": 2,
   "id": "60623f68",
   "metadata": {
    "ExecuteTime": {
     "end_time": "2021-05-26T02:57:30.926315Z",
     "start_time": "2021-05-26T02:57:30.909338Z"
    },
    "scrolled": true
   },
   "outputs": [
    {
     "data": {
      "text/plain": [
       "2"
      ]
     },
     "execution_count": 2,
     "metadata": {},
     "output_type": "execute_result"
    }
   ],
   "source": [
    "a = {\"a\" : 1 , \"b\" : 2}\n",
    "len(a)"
   ]
  },
  {
   "cell_type": "code",
   "execution_count": 5,
   "id": "e0427103",
   "metadata": {
    "ExecuteTime": {
     "end_time": "2021-05-26T02:59:11.096041Z",
     "start_time": "2021-05-26T02:59:11.077052Z"
    }
   },
   "outputs": [
    {
     "data": {
      "text/plain": [
       "1"
      ]
     },
     "execution_count": 5,
     "metadata": {},
     "output_type": "execute_result"
    }
   ],
   "source": [
    "a[\"a\"]"
   ]
  },
  {
   "cell_type": "code",
   "execution_count": 8,
   "id": "c25de1df",
   "metadata": {
    "ExecuteTime": {
     "end_time": "2021-05-26T02:59:37.172891Z",
     "start_time": "2021-05-26T02:59:37.156170Z"
    }
   },
   "outputs": [],
   "source": [
    "a = {1:2}"
   ]
  },
  {
   "cell_type": "markdown",
   "id": "0179ed41",
   "metadata": {},
   "source": [
    "## 딕셔너리 쌍 추가, 삭제하기\n",
    "딕셔너리 쌍을 추가하는 방법과 삭제하는 방법을 살펴보자. 먼저 딕셔너리에 쌍을 추가하는 다음 예를 함께 따라 해 보자."
   ]
  },
  {
   "cell_type": "markdown",
   "id": "6cc26da3",
   "metadata": {},
   "source": [
    "### 딕셔너리 쌍 추가하기"
   ]
  },
  {
   "cell_type": "code",
   "execution_count": 10,
   "id": "9f97ec75",
   "metadata": {
    "ExecuteTime": {
     "end_time": "2021-05-26T03:01:51.690282Z",
     "start_time": "2021-05-26T03:01:51.679288Z"
    }
   },
   "outputs": [],
   "source": [
    "a = {}\n",
    "a[\"a\"] = \"adsf23fadf\""
   ]
  },
  {
   "cell_type": "code",
   "execution_count": 12,
   "id": "9783be7a",
   "metadata": {
    "ExecuteTime": {
     "end_time": "2021-05-26T03:02:11.329124Z",
     "start_time": "2021-05-26T03:02:11.318141Z"
    }
   },
   "outputs": [
    {
     "data": {
      "text/plain": [
       "{'a': 'adsf23fadf'}"
      ]
     },
     "execution_count": 12,
     "metadata": {},
     "output_type": "execute_result"
    }
   ],
   "source": [
    "a"
   ]
  },
  {
   "cell_type": "code",
   "execution_count": 14,
   "id": "3fb1bc68",
   "metadata": {
    "ExecuteTime": {
     "end_time": "2021-05-26T03:02:24.464013Z",
     "start_time": "2021-05-26T03:02:24.458017Z"
    }
   },
   "outputs": [
    {
     "data": {
      "text/plain": [
       "'adsf23fadf'"
      ]
     },
     "execution_count": 14,
     "metadata": {},
     "output_type": "execute_result"
    }
   ],
   "source": [
    "a[\"a\"]"
   ]
  },
  {
   "cell_type": "code",
   "execution_count": 16,
   "id": "003642e2",
   "metadata": {
    "ExecuteTime": {
     "end_time": "2021-05-26T03:03:10.760418Z",
     "start_time": "2021-05-26T03:03:10.740448Z"
    }
   },
   "outputs": [
    {
     "data": {
      "text/plain": [
       "{'a': 'adsf23fadf', 'b': 123123}"
      ]
     },
     "execution_count": 16,
     "metadata": {},
     "output_type": "execute_result"
    }
   ],
   "source": [
    "a[\"b\"] = 123123\n",
    "a"
   ]
  },
  {
   "cell_type": "code",
   "execution_count": 18,
   "id": "18234aa3",
   "metadata": {
    "ExecuteTime": {
     "end_time": "2021-05-26T03:04:06.928833Z",
     "start_time": "2021-05-26T03:04:06.918836Z"
    }
   },
   "outputs": [],
   "source": [
    "a[\"a\"] = 12"
   ]
  },
  {
   "cell_type": "code",
   "execution_count": 20,
   "id": "87849974",
   "metadata": {
    "ExecuteTime": {
     "end_time": "2021-05-26T03:05:06.994175Z",
     "start_time": "2021-05-26T03:05:06.986178Z"
    }
   },
   "outputs": [
    {
     "data": {
      "text/plain": [
       "{'a': 12, 'b': 123123}"
      ]
     },
     "execution_count": 20,
     "metadata": {},
     "output_type": "execute_result"
    }
   ],
   "source": [
    "a"
   ]
  },
  {
   "cell_type": "markdown",
   "id": "6a2c4da7",
   "metadata": {
    "ExecuteTime": {
     "end_time": "2021-05-26T03:05:18.826025Z",
     "start_time": "2021-05-26T03:05:18.820045Z"
    }
   },
   "source": [
    "### 딕셔너리 요소 삭제하기"
   ]
  },
  {
   "cell_type": "code",
   "execution_count": 23,
   "id": "b6f5afcf",
   "metadata": {
    "ExecuteTime": {
     "end_time": "2021-05-26T03:06:03.376999Z",
     "start_time": "2021-05-26T03:06:03.368019Z"
    }
   },
   "outputs": [],
   "source": [
    "del a[\"b\"]"
   ]
  },
  {
   "cell_type": "code",
   "execution_count": 25,
   "id": "3b82c346",
   "metadata": {
    "ExecuteTime": {
     "end_time": "2021-05-26T03:08:02.211450Z",
     "start_time": "2021-05-26T03:08:02.200456Z"
    }
   },
   "outputs": [
    {
     "data": {
      "text/plain": [
       "{'a': 12}"
      ]
     },
     "execution_count": 25,
     "metadata": {},
     "output_type": "execute_result"
    }
   ],
   "source": [
    "a"
   ]
  },
  {
   "cell_type": "code",
   "execution_count": 27,
   "id": "80978acc",
   "metadata": {
    "ExecuteTime": {
     "end_time": "2021-05-26T03:08:12.564797Z",
     "start_time": "2021-05-26T03:08:12.557802Z"
    }
   },
   "outputs": [],
   "source": [
    "a = {1: 'a', 2: 'b', 'name': 'pey', 3: [1, 2, 3]}\n",
    "del a[2]"
   ]
  },
  {
   "cell_type": "code",
   "execution_count": 29,
   "id": "f27c8571",
   "metadata": {
    "ExecuteTime": {
     "end_time": "2021-05-26T03:09:02.284781Z",
     "start_time": "2021-05-26T03:09:02.271771Z"
    }
   },
   "outputs": [
    {
     "data": {
      "text/plain": [
       "{1: 'a', 'name': 'pey', 3: [1, 2, 3]}"
      ]
     },
     "execution_count": 29,
     "metadata": {},
     "output_type": "execute_result"
    }
   ],
   "source": [
    "a"
   ]
  },
  {
   "cell_type": "markdown",
   "id": "18921d3f",
   "metadata": {},
   "source": [
    "## 딕셔너리 관련 함수들\n",
    "딕셔너리를 자유자재로 사용하기 위해 딕셔너리가 자체적으로 가지고 있는 관련 함수를 사용해 보자.\n",
    "\n",
    "### Key 리스트 만들기(keys)"
   ]
  },
  {
   "cell_type": "code",
   "execution_count": 30,
   "id": "1d6798cb",
   "metadata": {
    "ExecuteTime": {
     "end_time": "2021-05-26T03:10:15.785375Z",
     "start_time": "2021-05-26T03:10:15.764386Z"
    }
   },
   "outputs": [
    {
     "data": {
      "text/plain": [
       "dict_keys([1, 2, 'name', 3])"
      ]
     },
     "execution_count": 30,
     "metadata": {},
     "output_type": "execute_result"
    }
   ],
   "source": [
    "a = {1: 'a', 2: 'b', 'name': 'pey', 3: [1, 2, 3]}\n",
    "a.keys()"
   ]
  },
  {
   "cell_type": "markdown",
   "id": "62f3314d",
   "metadata": {},
   "source": [
    "### Value 리스트 만들기(values)"
   ]
  },
  {
   "cell_type": "code",
   "execution_count": 32,
   "id": "04dd8590",
   "metadata": {
    "ExecuteTime": {
     "end_time": "2021-05-26T03:12:51.027194Z",
     "start_time": "2021-05-26T03:12:51.015218Z"
    }
   },
   "outputs": [
    {
     "data": {
      "text/plain": [
       "dict_values(['a', 'b', 'pey', [1, 2, 3]])"
      ]
     },
     "execution_count": 32,
     "metadata": {},
     "output_type": "execute_result"
    }
   ],
   "source": [
    "a.values()"
   ]
  },
  {
   "cell_type": "markdown",
   "id": "f9150f54",
   "metadata": {},
   "source": [
    "## Key, Value 쌍 얻기(items)"
   ]
  },
  {
   "cell_type": "code",
   "execution_count": 37,
   "id": "04dc3988",
   "metadata": {
    "ExecuteTime": {
     "end_time": "2021-05-26T03:16:58.511351Z",
     "start_time": "2021-05-26T03:16:58.504372Z"
    }
   },
   "outputs": [
    {
     "data": {
      "text/plain": [
       "dict_items([(1, 'a'), (2, 'b'), ('name', 'pey'), (3, [1, 2, 3])])"
      ]
     },
     "execution_count": 37,
     "metadata": {},
     "output_type": "execute_result"
    }
   ],
   "source": [
    "a = {1: 'a', 2: 'b', 'name': 'pey', 3: [1, 2, 3]}\n",
    "a.items()"
   ]
  },
  {
   "cell_type": "code",
   "execution_count": 39,
   "id": "006b008a",
   "metadata": {
    "ExecuteTime": {
     "end_time": "2021-05-26T03:24:34.080733Z",
     "start_time": "2021-05-26T03:24:34.070739Z"
    }
   },
   "outputs": [
    {
     "data": {
      "text/plain": [
       "{1: 'a', 2: 'b', 'name': 'pey', 3: [1, 2, 3]}"
      ]
     },
     "execution_count": 39,
     "metadata": {},
     "output_type": "execute_result"
    }
   ],
   "source": [
    "dict([(1, 'a'), (2, 'b'), ('name', 'pey'), (3, [1, 2, 3])])"
   ]
  },
  {
   "cell_type": "code",
   "execution_count": 41,
   "id": "4faf2f82",
   "metadata": {
    "ExecuteTime": {
     "end_time": "2021-05-26T03:27:52.732703Z",
     "start_time": "2021-05-26T03:27:52.721727Z"
    }
   },
   "outputs": [
    {
     "data": {
      "text/plain": [
       "{1: 2, 2: 4}"
      ]
     },
     "execution_count": 41,
     "metadata": {},
     "output_type": "execute_result"
    }
   ],
   "source": [
    "dict([[1,2] , [2,4]])"
   ]
  },
  {
   "cell_type": "markdown",
   "id": "780b7992",
   "metadata": {},
   "source": [
    "#### Key: Value 쌍 모두 지우기(clear)"
   ]
  },
  {
   "cell_type": "code",
   "execution_count": 43,
   "id": "fa6b6d1c",
   "metadata": {
    "ExecuteTime": {
     "end_time": "2021-05-26T03:28:27.222372Z",
     "start_time": "2021-05-26T03:28:27.203384Z"
    }
   },
   "outputs": [],
   "source": [
    "a = {1: 'a', 2: 'b', 'name': 'pey', 3: [1, 2, 3]}\n",
    "a.clear()"
   ]
  },
  {
   "cell_type": "code",
   "execution_count": 45,
   "id": "6d60928c",
   "metadata": {
    "ExecuteTime": {
     "end_time": "2021-05-26T03:28:44.080502Z",
     "start_time": "2021-05-26T03:28:44.074507Z"
    }
   },
   "outputs": [
    {
     "data": {
      "text/plain": [
       "{}"
      ]
     },
     "execution_count": 45,
     "metadata": {},
     "output_type": "execute_result"
    }
   ],
   "source": [
    "a"
   ]
  },
  {
   "cell_type": "markdown",
   "id": "fcf7a3a7",
   "metadata": {},
   "source": [
    "### Key로 Value얻기(get)"
   ]
  },
  {
   "cell_type": "code",
   "execution_count": 48,
   "id": "6583089e",
   "metadata": {
    "ExecuteTime": {
     "end_time": "2021-05-26T03:29:49.851070Z",
     "start_time": "2021-05-26T03:29:49.839078Z"
    }
   },
   "outputs": [
    {
     "data": {
      "text/plain": [
       "'pey'"
      ]
     },
     "execution_count": 48,
     "metadata": {},
     "output_type": "execute_result"
    }
   ],
   "source": [
    "a = {1: 'a', 2: 'b', 'name': 'pey', 3: [1, 2, 3]}\n",
    "a['name']"
   ]
  },
  {
   "cell_type": "code",
   "execution_count": 50,
   "id": "94289126",
   "metadata": {
    "ExecuteTime": {
     "end_time": "2021-05-26T03:30:37.022302Z",
     "start_time": "2021-05-26T03:30:37.015317Z"
    }
   },
   "outputs": [
    {
     "data": {
      "text/plain": [
       "'pey'"
      ]
     },
     "execution_count": 50,
     "metadata": {},
     "output_type": "execute_result"
    }
   ],
   "source": [
    "a.get('name')"
   ]
  },
  {
   "cell_type": "markdown",
   "id": "9a5a28ba",
   "metadata": {},
   "source": [
    "### 해당 Key가 딕셔너리 안에 있는지 조사하기(in)"
   ]
  },
  {
   "cell_type": "code",
   "execution_count": 52,
   "id": "746320ce",
   "metadata": {
    "ExecuteTime": {
     "end_time": "2021-05-26T03:31:12.994503Z",
     "start_time": "2021-05-26T03:31:12.983509Z"
    }
   },
   "outputs": [
    {
     "data": {
      "text/plain": [
       "True"
      ]
     },
     "execution_count": 52,
     "metadata": {},
     "output_type": "execute_result"
    }
   ],
   "source": [
    "a = {'name':'pey', 'phone':'0119993323', 'birth': '1118'}\n",
    "\n",
    "'name' in a"
   ]
  }
 ],
 "metadata": {
  "hide_input": false,
  "kernelspec": {
   "display_name": "Python 3",
   "language": "python",
   "name": "python3"
  },
  "language_info": {
   "codemirror_mode": {
    "name": "ipython",
    "version": 3
   },
   "file_extension": ".py",
   "mimetype": "text/x-python",
   "name": "python",
   "nbconvert_exporter": "python",
   "pygments_lexer": "ipython3",
   "version": "3.7.9"
  },
  "toc": {
   "base_numbering": 1,
   "nav_menu": {},
   "number_sections": true,
   "sideBar": true,
   "skip_h1_title": false,
   "title_cell": "Table of Contents",
   "title_sidebar": "Contents",
   "toc_cell": false,
   "toc_position": {},
   "toc_section_display": true,
   "toc_window_display": false
  },
  "varInspector": {
   "cols": {
    "lenName": 16,
    "lenType": 16,
    "lenVar": 40
   },
   "kernels_config": {
    "python": {
     "delete_cmd_postfix": "",
     "delete_cmd_prefix": "del ",
     "library": "var_list.py",
     "varRefreshCmd": "print(var_dic_list())"
    },
    "r": {
     "delete_cmd_postfix": ") ",
     "delete_cmd_prefix": "rm(",
     "library": "var_list.r",
     "varRefreshCmd": "cat(var_dic_list()) "
    }
   },
   "types_to_exclude": [
    "module",
    "function",
    "builtin_function_or_method",
    "instance",
    "_Feature"
   ],
   "window_display": false
  }
 },
 "nbformat": 4,
 "nbformat_minor": 5
}
